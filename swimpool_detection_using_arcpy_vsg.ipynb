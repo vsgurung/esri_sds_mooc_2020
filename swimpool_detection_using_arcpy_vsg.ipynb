{
 "cells": [
  {
   "cell_type": "markdown",
   "metadata": {},
   "source": [
    "# Exporting Training Data, Training a model and Detecting Object using Arcpy"
   ]
  },
  {
   "cell_type": "markdown",
   "metadata": {},
   "source": [
    "### Preparing the Environment"
   ]
  },
  {
   "cell_type": "code",
   "execution_count": 1,
   "metadata": {},
   "outputs": [],
   "source": [
    "# Importing the required modules\n",
    "import arcpy\n",
    "import os\n",
    "from arcpy.ia import TrainDeepLearningModel, DetectObjectsUsingDeepLearning"
   ]
  },
  {
   "cell_type": "code",
   "execution_count": 2,
   "metadata": {},
   "outputs": [],
   "source": [
    "# Setting up the environment\n",
    "arcpy.env.workspace = \"path to the workspace\"\n",
    "arcpy.env.overwriteOutput = True # Else, user will get folder already exists and using arcpy in ArcGIS Pro"
   ]
  },
  {
   "cell_type": "code",
   "execution_count": 3,
   "metadata": {},
   "outputs": [],
   "source": [
    "# Use the following if using the notebook within ArcGIS Pro environment\n",
    "# aprx = arcpy.mp.ArcGISProject('CURRENT')\n",
    "\n",
    "# If running outside ArcGIS Pro environemnt\n",
    "aprx = arcpy.mp.ArcGISProject(\"path to the arcgis pro .aprx\")"
   ]
  },
  {
   "cell_type": "markdown",
   "metadata": {},
   "source": [
    "### Referencing the map and getting the layers in the map"
   ]
  },
  {
   "cell_type": "code",
   "execution_count": 4,
   "metadata": {},
   "outputs": [
    {
     "data": {
      "text/plain": [
       "['TrainingSamplesComplete',\n",
       " 'Detected_Swimming_Pools',\n",
       " 'NAIP_AOI.tif',\n",
       " 'Topographic']"
      ]
     },
     "execution_count": 4,
     "metadata": {},
     "output_type": "execute_result"
    }
   ],
   "source": [
    "reference_map = aprx.listMaps()[0]# As there is only one map in the project file.\n",
    "\n",
    "# Getting list of all layers in the map\n",
    "map_layers = [layers for layers in reference_map.listLayers()]\n",
    "\n",
    "map_layers_name = [layers.name for layers in reference_map.listLayers()]\n",
    "map_layers_name"
   ]
  },
  {
   "cell_type": "code",
   "execution_count": 5,
   "metadata": {},
   "outputs": [],
   "source": [
    "# Creating the layer object for use in Export Training Data tool and specifying the output location\n",
    "naip_aoi = [l for l in map_layers if l.name=='NAIP_AOI.tif'][0]\n",
    "training_sample = [l for l in map_layers if l.name=='TrainingSamplesComplete'][0]\n",
    "class_value_field_name = [field.name for field in arcpy.ListFields(training_sample)][2]"
   ]
  },
  {
   "cell_type": "code",
   "execution_count": 6,
   "metadata": {},
   "outputs": [
    {
     "data": {
      "text/plain": [
       "'CheckedOut'"
      ]
     },
     "execution_count": 6,
     "metadata": {},
     "output_type": "execute_result"
    }
   ],
   "source": [
    "# Checking Out Image Analyst extension that is required.\n",
    "from arcpy.ia import ExportTrainingDataForDeepLearning\n",
    "\n",
    "# Check out the ArcGIS Image Analyst extension license\n",
    "arcpy.CheckOutExtension(\"ImageAnalyst\")"
   ]
  },
  {
   "cell_type": "markdown",
   "metadata": {},
   "source": [
    "### Exporting Training Data"
   ]
  },
  {
   "cell_type": "code",
   "execution_count": 7,
   "metadata": {
    "scrolled": false
   },
   "outputs": [
    {
     "data": {
      "text/plain": [
       "<geoprocessing server result object at 0x210bc7a7fa8>"
      ]
     },
     "execution_count": 7,
     "metadata": {},
     "output_type": "execute_result"
    }
   ],
   "source": [
    "out_folder = os.path.join(os.getcwd(), \"Training_Images_arcpy\")\n",
    "\n",
    "# Setting local variables as per the exercise\n",
    "image_chip_format = \"TIFF\"\n",
    "tile_size_x = \"256\"\n",
    "tile_size_y = \"256\"\n",
    "stride_x= \"128\"\n",
    "stride_y= \"128\"\n",
    "output_nofeature_tiles = \"ONLY_TILES_WITH_FEATURES\"\n",
    "metadata_format= \"PASCAL_VOC_rectangles\"\n",
    "buffer_radius = 6\n",
    "rotation_angle = 0\n",
    "reference_system = \"MAP_SPACE\"\n",
    "\n",
    "# Exporting Training Data using arcpy\n",
    "ExportTrainingDataForDeepLearning(naip_aoi, out_folder, in_class_data=training_sample, \\\n",
    "                                  image_chip_format=image_chip_format, tile_size_x=tile_size_x, tile_size_y=tile_size_y, \\\n",
    "                                 stride_x = stride_x, stride_y=stride_y, metadata_format=metadata_format, rotation_angle=rotation_angle, \\\n",
    "                                 buffer_radius=buffer_radius, class_value_field=class_value_field_name, reference_system=reference_system)\n"
   ]
  },
  {
   "cell_type": "markdown",
   "metadata": {},
   "source": [
    "### Exporting Training Data Completed"
   ]
  },
  {
   "cell_type": "markdown",
   "metadata": {},
   "source": [
    "# Time to train the model"
   ]
  },
  {
   "cell_type": "code",
   "execution_count": 11,
   "metadata": {},
   "outputs": [],
   "source": [
    "def get_extent(lyr):\n",
    "    \"\"\"\n",
    "    Function to calculate the extent of a layer.\n",
    "    return: extent coordinates as string\n",
    "    \"\"\"\n",
    "    if lyr.supports('DATASOURCE'):\n",
    "        desc = arcpy.Describe(lyr.dataSource)\n",
    "        extent = f\"{desc.extent}\"\n",
    "        split_extent = extent.split(' ')[0:4]\n",
    "        concat_extent = ' '.join(split_extent)\n",
    "        return concat_extent\n",
    "    else:\n",
    "        return None"
   ]
  },
  {
   "cell_type": "code",
   "execution_count": 12,
   "metadata": {},
   "outputs": [
    {
     "data": {
      "text/html": [
       "<table border=\"1\" class=\"dataframe\">\n",
       "  <thead>\n",
       "    <tr style=\"text-align: left;\">\n",
       "      <th>epoch</th>\n",
       "      <th>train_loss</th>\n",
       "      <th>valid_loss</th>\n",
       "      <th>time</th>\n",
       "    </tr>\n",
       "  </thead>\n",
       "  <tbody>\n",
       "    <tr>\n",
       "      <td>0</td>\n",
       "      <td>5042.982422</td>\n",
       "      <td>4583.544434</td>\n",
       "      <td>00:36</td>\n",
       "    </tr>\n",
       "    <tr>\n",
       "      <td>1</td>\n",
       "      <td>3534.752197</td>\n",
       "      <td>1062.215210</td>\n",
       "      <td>00:36</td>\n",
       "    </tr>\n",
       "    <tr>\n",
       "      <td>2</td>\n",
       "      <td>1893.369141</td>\n",
       "      <td>533.428162</td>\n",
       "      <td>00:36</td>\n",
       "    </tr>\n",
       "    <tr>\n",
       "      <td>3</td>\n",
       "      <td>1074.566528</td>\n",
       "      <td>451.426178</td>\n",
       "      <td>00:36</td>\n",
       "    </tr>\n",
       "    <tr>\n",
       "      <td>4</td>\n",
       "      <td>698.143005</td>\n",
       "      <td>417.292877</td>\n",
       "      <td>00:35</td>\n",
       "    </tr>\n",
       "    <tr>\n",
       "      <td>5</td>\n",
       "      <td>516.629639</td>\n",
       "      <td>397.246674</td>\n",
       "      <td>00:35</td>\n",
       "    </tr>\n",
       "    <tr>\n",
       "      <td>6</td>\n",
       "      <td>423.896271</td>\n",
       "      <td>395.837402</td>\n",
       "      <td>00:36</td>\n",
       "    </tr>\n",
       "    <tr>\n",
       "      <td>7</td>\n",
       "      <td>370.732208</td>\n",
       "      <td>374.510986</td>\n",
       "      <td>00:36</td>\n",
       "    </tr>\n",
       "    <tr>\n",
       "      <td>8</td>\n",
       "      <td>344.694641</td>\n",
       "      <td>353.733215</td>\n",
       "      <td>00:36</td>\n",
       "    </tr>\n",
       "    <tr>\n",
       "      <td>9</td>\n",
       "      <td>322.871948</td>\n",
       "      <td>360.573212</td>\n",
       "      <td>00:36</td>\n",
       "    </tr>\n",
       "    <tr>\n",
       "      <td>10</td>\n",
       "      <td>308.778931</td>\n",
       "      <td>331.760010</td>\n",
       "      <td>00:36</td>\n",
       "    </tr>\n",
       "    <tr>\n",
       "      <td>11</td>\n",
       "      <td>299.975830</td>\n",
       "      <td>332.191162</td>\n",
       "      <td>00:36</td>\n",
       "    </tr>\n",
       "    <tr>\n",
       "      <td>12</td>\n",
       "      <td>291.357086</td>\n",
       "      <td>327.474609</td>\n",
       "      <td>00:36</td>\n",
       "    </tr>\n",
       "    <tr>\n",
       "      <td>13</td>\n",
       "      <td>284.858032</td>\n",
       "      <td>328.908875</td>\n",
       "      <td>00:36</td>\n",
       "    </tr>\n",
       "    <tr>\n",
       "      <td>14</td>\n",
       "      <td>284.324188</td>\n",
       "      <td>325.697845</td>\n",
       "      <td>00:36</td>\n",
       "    </tr>\n",
       "    <tr>\n",
       "      <td>15</td>\n",
       "      <td>276.113495</td>\n",
       "      <td>317.248444</td>\n",
       "      <td>00:35</td>\n",
       "    </tr>\n",
       "    <tr>\n",
       "      <td>16</td>\n",
       "      <td>273.951233</td>\n",
       "      <td>312.767273</td>\n",
       "      <td>00:35</td>\n",
       "    </tr>\n",
       "    <tr>\n",
       "      <td>17</td>\n",
       "      <td>270.397186</td>\n",
       "      <td>311.475311</td>\n",
       "      <td>00:36</td>\n",
       "    </tr>\n",
       "    <tr>\n",
       "      <td>18</td>\n",
       "      <td>267.306091</td>\n",
       "      <td>306.028717</td>\n",
       "      <td>00:35</td>\n",
       "    </tr>\n",
       "    <tr>\n",
       "      <td>19</td>\n",
       "      <td>264.989014</td>\n",
       "      <td>307.667603</td>\n",
       "      <td>00:36</td>\n",
       "    </tr>\n",
       "    <tr>\n",
       "      <td>20</td>\n",
       "      <td>262.062592</td>\n",
       "      <td>302.656860</td>\n",
       "      <td>00:35</td>\n",
       "    </tr>\n",
       "    <tr>\n",
       "      <td>21</td>\n",
       "      <td>259.483246</td>\n",
       "      <td>302.248108</td>\n",
       "      <td>00:36</td>\n",
       "    </tr>\n",
       "    <tr>\n",
       "      <td>22</td>\n",
       "      <td>258.137177</td>\n",
       "      <td>301.694916</td>\n",
       "      <td>00:36</td>\n",
       "    </tr>\n",
       "    <tr>\n",
       "      <td>23</td>\n",
       "      <td>254.436951</td>\n",
       "      <td>301.216400</td>\n",
       "      <td>00:36</td>\n",
       "    </tr>\n",
       "    <tr>\n",
       "      <td>24</td>\n",
       "      <td>255.821609</td>\n",
       "      <td>301.453156</td>\n",
       "      <td>00:36</td>\n",
       "    </tr>\n",
       "  </tbody>\n",
       "</table>"
      ],
      "text/plain": [
       "<IPython.core.display.HTML object>"
      ]
     },
     "metadata": {},
     "output_type": "display_data"
    }
   ],
   "source": [
    "training_sample_extent = get_extent(training_sample)\n",
    "\n",
    "# Setting up local variables for training the models\n",
    "input_folder = out_folder\n",
    "output_folder = os.path.join(os.getcwd(), \"Trained_SSD_Model\")\n",
    "max_epochs = 25\n",
    "model_type = \"SSD\"\n",
    "batch_size = 32\n",
    "learning_rate = None\n",
    "backbone_model = \"resnet34\"\n",
    "pretrained_model = None\n",
    "validation_percentage = 20 # I chose 20 instead of 10 in the exercise\n",
    "stop_training = \"STOP_TRAINING\"\n",
    "freeze = \"FREEZE_MODEL\"\n",
    "\n",
    "# Training the model\n",
    "with arcpy.EnvManager(parallelProcessingFactor=\"12\", extent=training_sample_extent, processorType=\"GPU\"):\n",
    "    TrainDeepLearningModel(in_folder=input_folder, out_folder=output_folder, max_epochs=max_epochs, batch_size=batch_size,\\\n",
    "                          model_type=model_type, learning_rate=learning_rate, backbone_model=backbone_model, \\\n",
    "                          pretrained_model=pretrained_model, stop_training=stop_training, freeze=freeze)"
   ]
  },
  {
   "cell_type": "markdown",
   "metadata": {},
   "source": [
    "The output displays the training loss and the validation loss during each epoch"
   ]
  },
  {
   "cell_type": "markdown",
   "metadata": {},
   "source": [
    "### Training Completed and Model exported"
   ]
  },
  {
   "cell_type": "markdown",
   "metadata": {},
   "source": [
    "# Detecting Swimming Pool"
   ]
  },
  {
   "cell_type": "code",
   "execution_count": 17,
   "metadata": {},
   "outputs": [
    {
     "ename": "AttributeError",
     "evalue": "'ArcGISObjectDetector' object has no attribute 'updatePixels'",
     "output_type": "error",
     "traceback": [
      "\u001b[1;31m---------------------------------------------------------------------------\u001b[0m",
      "\u001b[1;31mAttributeError\u001b[0m                            Traceback (most recent call last)",
      "\u001b[1;31mAttributeError\u001b[0m: 'ArcGISObjectDetector' object has no attribute 'updatePixels'"
     ]
    }
   ],
   "source": [
    "# Setting up local variable for detecing objects, same as in the exercise\n",
    "detected_objects_location = os.path.join(os.getcwd(), \"ObjectDetection.gdb/Detected_Pools_arcpy\") \n",
    "model = os.path.join(output_folder, \"Trained_SSD_Model.emd\")\n",
    "arguments = \"padding 56;threshold 0.5;nms_overlap 0.1;batch_size 64;exclude_pad_detections True\"\n",
    "run_nms = \"NMS\"\n",
    "confidence_score_field = \"Confidence\"\n",
    "class_value_field = \"Class\"\n",
    "max_overlap_ratio = 0\n",
    "\n",
    "\n",
    "with arcpy.EnvManager(parallelProcessingFactor=\"12\", extent=training_sample_extent, processorType=\"GPU\"):\n",
    "    DetectObjectsUsingDeepLearning(in_raster=naip_aoi, out_detected_objects=detected_objects_location, in_model_definition=model, \\\n",
    "                                   arguments = arguments, run_nms=run_nms,confidence_score_field=confidence_score_field, \\\n",
    "                                   class_value_field=class_value_field, max_overlap_ratio=max_overlap_ratio)\n"
   ]
  },
  {
   "cell_type": "markdown",
   "metadata": {},
   "source": [
    "#### Despite the above error, features depicting the detected swimming pool was written to the file geodatabase.\n",
    "#### Any hints as to why the above error appeared would be helpful."
   ]
  },
  {
   "cell_type": "code",
   "execution_count": null,
   "metadata": {},
   "outputs": [],
   "source": []
  }
 ],
 "metadata": {
  "kernelspec": {
   "display_name": "Python 3",
   "language": "python",
   "name": "python3"
  },
  "language_info": {
   "codemirror_mode": {
    "name": "ipython",
    "version": 3
   },
   "file_extension": ".py",
   "mimetype": "text/x-python",
   "name": "python",
   "nbconvert_exporter": "python",
   "pygments_lexer": "ipython3",
   "version": "3.6.10"
  }
 },
 "nbformat": 4,
 "nbformat_minor": 4
}
